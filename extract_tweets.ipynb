{
 "cells": [
  {
   "cell_type": "code",
   "execution_count": 2,
   "metadata": {},
   "outputs": [
    {
     "name": "stdout",
     "output_type": "stream",
     "text": [
      "Enter starting date2019-01-01\n",
      "Enter ending date2019-03-03\n"
     ]
    }
   ],
   "source": [
    "from textblob import TextBlob\n",
    "import csv\n",
    "import tweepy\n",
    "import unidecode\n",
    "\n",
    "auth1 = tweepy.auth.OAuthHandler(\"ffhWeoODjMJoqSs2akB1ie6gV\", \"uP63f5CZPgKqDFNPUILRc7qLuD4giwHZR03gV7QPPxGvWVVe28\")\n",
    "auth1.set_access_token(\"1080092593730478080-LQ4jREgDtZGdKdYqyocxbYw7XUrjUG\", \"4slpsYcz7380P9QgXRr1iZj3hFYoW8wghAk0WRYpyzJSe\")\n",
    "api = tweepy.API(auth1)\n",
    "\n",
    "target_num = 5000\n",
    "query = \"MasoodAzharDEAD\"\n",
    "dates=input (\"Enter starting date\")\n",
    "dateu=input (\"Enter ending date\")\n",
    "\n",
    "csvFile = open('new_results.csv','w+',newline='')\n",
    "csvWriter = csv.writer(csvFile)\n",
    "csvWriter.writerow([\"text\", \"polarity\",\"subjectivity\",\"Date\",\"retweet count\"])\n",
    "counter = 0\n",
    "\n",
    "for tweet in tweepy.Cursor(api.search, q = query, lang = \"en\", result_type = \"all\",since=dates,until=dateu, count = target_num).items():\n",
    "    created = tweet.created_at\n",
    "    text = tweet.text\n",
    "    text = unidecode.unidecode(text) \n",
    "    retwc = tweet.retweet_count\n",
    "    try:\n",
    "        hashtag = tweet.entities[u'hashtags'][0][u'text'] #hashtags used\n",
    "    except:\n",
    "        hashtag = \"None\"\n",
    "    username  = tweet.author.name            #author/user name\n",
    "    authorid  = tweet.author.id              #author/user ID#\n",
    "    followers = tweet.author.followers_count #number of author/user followers (inlink)\n",
    "    friends = tweet.author.friends_count     #number of author/user friends (outlink)\n",
    "\n",
    "    text_blob = TextBlob(text)\n",
    "    polarity = text_blob.polarity\n",
    "    subjectivity = text_blob.subjectivity\n",
    "    csvWriter.writerow([text, polarity, subjectivity,created,retwc])\n",
    "\n",
    "    counter = counter + 1\n",
    "    if (counter == target_num):\n",
    "        break\n",
    "\n",
    "csvFile.close()"
   ]
  },
  {
   "cell_type": "code",
   "execution_count": null,
   "metadata": {},
   "outputs": [],
   "source": []
  }
 ],
 "metadata": {
  "kernelspec": {
   "display_name": "Python 3",
   "language": "python",
   "name": "python3"
  },
  "language_info": {
   "codemirror_mode": {
    "name": "ipython",
    "version": 3
   },
   "file_extension": ".py",
   "mimetype": "text/x-python",
   "name": "python",
   "nbconvert_exporter": "python",
   "pygments_lexer": "ipython3",
   "version": "3.6.8"
  }
 },
 "nbformat": 4,
 "nbformat_minor": 2
}
