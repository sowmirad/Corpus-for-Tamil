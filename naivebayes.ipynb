{
 "cells": [
  {
   "cell_type": "code",
   "execution_count": 18,
   "metadata": {},
   "outputs": [
    {
     "name": "stdout",
     "output_type": "stream",
     "text": [
      "Detailed Report using Naive Bayes Classifier\n",
      "Percentage of tweets that are Negative : 32.71028037383177%\n",
      "Percentage of tweets that are Positive : 41.1214953271028%\n",
      "Percentage of tweets that are Neutral : 26.168224299065418%\n",
      "Accuracy of Naive Bayes Classifier:35.51401869158878%\n"
     ]
    },
    {
     "data": {
      "image/png": "[encoded data removed]",
      "text/plain": [
       "<Figure size 432x288 with 1 Axes>"
      ]
     },
     "metadata": {},
     "output_type": "display_data"
    }
   ],
   "source": [
    "import re\n",
    "import nltk\n",
    "from nltk.sentiment.vader import SentimentIntensityAnalyzer\n",
    "import pandas as pd\n",
    "\n",
    "stopwords = nltk.corpus.stopwords.words('english')\n",
    "stopwords.append('AT_USER')\n",
    "stopwords.append('URL')\n",
    "\n",
    "def getFeatureVector(tweet):\n",
    "    featureVector = []\n",
    "    #split tweet into words\n",
    "    words = tweet.split()\n",
    "    for w in words:\n",
    "        #strip punctuation\n",
    "        w = w.strip('\\'\"?,.')\n",
    "        #check if the word stats with an alphabet\n",
    "        val = re.search(r\"^[a-zA-Z][a-zA-Z0-9]*$\", w)\n",
    "        if(w in stopwords or val is None):\n",
    "            continue\n",
    "        else:\n",
    "            featureVector.append(w.lower())\n",
    "    return featureVector\n",
    "\n",
    "pd.set_option('mode.chained_assignment', None)\n",
    "\n",
    "data=pd.read_csv('processed_tweets.csv')\n",
    "data.loc[:,'Sentiment']='neutral'\n",
    "for i in range(0,len(data)):\n",
    "    sie=SentimentIntensityAnalyzer()\n",
    "    if sie.polarity_scores(data.iloc[:,0][i])['compound'] == 0.0:\n",
    "        data.iloc[:,-1][i]='neutral'\n",
    "    elif sie.polarity_scores(data.iloc[:,0][i])['compound'] < 0.0:\n",
    "        data.iloc[:,-1][i]='negative'\n",
    "    else:\n",
    "        data.iloc[:,-1][i]='positive'\n",
    "    \n",
    "data.to_csv('final_dataset.csv',index=None)\n",
    "\n",
    "#Training Phase\n",
    "from sklearn.feature_extraction.text import TfidfVectorizer\n",
    "vectorizer = TfidfVectorizer(use_idf=True, smooth_idf=True, sublinear_tf=False)\n",
    "t=vectorizer.fit_transform(data.iloc[:,0].values)\n",
    "from sklearn.preprocessing import LabelEncoder\n",
    "le=LabelEncoder()\n",
    "data.iloc[:,-1]=le.fit_transform(data.iloc[:,-1])\n",
    "\n",
    "#Training for Naive Bayes\n",
    "from sklearn.naive_bayes import MultinomialNB\n",
    "NBclassifier=MultinomialNB()\n",
    "NBclassifier.fit(t,data.iloc[:,-1])\n",
    "#Testing for Naive Bayes\n",
    "test_tweets=data.iloc[:,0]\n",
    "test_vector=vectorizer.transform(test_tweets)\n",
    "arr=le.inverse_transform(NBclassifier.predict(test_vector))\n",
    "\n",
    "count_neg=0\n",
    "count_p=0\n",
    "count_neu=0\n",
    "\n",
    "for i in arr:\n",
    "    if(i=='neutral'):\n",
    "        count_neu+=1\n",
    "    if(i=='positive'):\n",
    "        count_p+=1\n",
    "    if(i=='negative'):\n",
    "        count_neg+=1\n",
    "        \n",
    "    \n",
    "\n",
    "neg_perc=count_neg/len(data)*100\n",
    "pos_perc=count_p/len(data)*100\n",
    "neu_perc=count_neu/len(data)*100\n",
    "\n",
    "accuracy = (neg_perc + pos_perc + neg_perc)/3\n",
    "import matplotlib.pyplot as plt\n",
    "labels = ['Negative','Positive','Neutral']\n",
    "sizes = [count_neg,count_p,count_neu]\n",
    "colors=['red','green','yellow']\n",
    "plt.pie(sizes, labels=labels,colors=colors)\n",
    "plt.title('Analysis of tweets using Naive Bayes')\n",
    "plt.savefig('tweets.png')\n",
    "\n",
    "print(\"Detailed Report using Naive Bayes Classifier\")\n",
    "print(\"Percentage of tweets that are Negative : \"+str(neg_perc)+'%')\n",
    "print(\"Percentage of tweets that are Positive : \"+str(pos_perc)+'%')\n",
    "print(\"Percentage of tweets that are Neutral : \"+str(neu_perc)+'%')\n",
    "print(\"Accuracy of Naive Bayes Classifier:\" + str(accuracy) + '%')\n"
   ]
  },
  {
   "cell_type": "code",
   "execution_count": null,
   "metadata": {},
   "outputs": [],
   "source": []
  }
 ],
 "metadata": {
  "kernelspec": {
   "display_name": "Python 3",
   "language": "python",
   "name": "python3"
  },
  "language_info": {
   "codemirror_mode": {
    "name": "ipython",
    "version": 3
   },
   "file_extension": ".py",
   "mimetype": "text/x-python",
   "name": "python",
   "nbconvert_exporter": "python",
   "pygments_lexer": "ipython3",
   "version": "3.6.8"
  }
 },
 "nbformat": 4,
 "nbformat_minor": 2
}
